{
 "cells": [
  {
   "cell_type": "code",
   "execution_count": 1,
   "metadata": {},
   "outputs": [],
   "source": [
    "from constants import EdupageMainDbIDs as indexes\n",
    "import sender\n",
    "import parser"
   ]
  },
  {
   "cell_type": "code",
   "execution_count": 2,
   "metadata": {},
   "outputs": [],
   "source": [
    "response = sender.request_main_db()\n",
    "data = parser.convert_main_db_response( response.json() )\n",
    "\n",
    "teachers = data[ indexes.teachers.value ]\n",
    "subjects = data[ indexes.subjects.value ]\n",
    "classrooms = data[ indexes.classrooms.value ]\n",
    "periods = data[ indexes.periods.value ]\n",
    "classes = data[ indexes.classes.value ]"
   ]
  },
  {
   "cell_type": "markdown",
   "metadata": {},
   "source": []
  }
 ],
 "metadata": {
  "kernelspec": {
   "display_name": "Python 3.10.5 64-bit",
   "language": "python",
   "name": "python3"
  },
  "language_info": {
   "codemirror_mode": {
    "name": "ipython",
    "version": 3
   },
   "file_extension": ".py",
   "mimetype": "text/x-python",
   "name": "python",
   "nbconvert_exporter": "python",
   "pygments_lexer": "ipython3",
   "version": "3.10.5"
  },
  "orig_nbformat": 4,
  "vscode": {
   "interpreter": {
    "hash": "a37776050f9bd0099562f9afa2f51e52b5a17f6ce0897add6c3fa7b7299e8bd6"
   }
  }
 },
 "nbformat": 4,
 "nbformat_minor": 2
}
